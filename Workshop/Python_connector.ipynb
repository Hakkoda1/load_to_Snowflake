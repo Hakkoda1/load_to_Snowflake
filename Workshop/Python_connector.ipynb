{
 "cells": [
  {
   "cell_type": "code",
   "execution_count": 18,
   "id": "27d4712c",
   "metadata": {},
   "outputs": [],
   "source": [
    "import pandas as pd\n",
    "import os\n",
    "from dotenv import load_dotenv\n",
    "load_dotenv()\n",
    "import snowflake.connector\n",
    "from snowflake.connector.pandas_tools import write_pandas\n"
   ]
  },
  {
   "cell_type": "code",
   "execution_count": 3,
   "id": "47e6bdcb",
   "metadata": {},
   "outputs": [],
   "source": [
    "# Init Snowflake Connection and environmental variables\n",
    "\n",
    "def connection ():\n",
    "    ctx = snowflake.connector.connect (\n",
    "                    user = os.getenv('SNOW_USER'),\n",
    "                    password = os.getenv('SNOW_PASS'),\n",
    "                    account = os.getenv('SNOW_ACC'),\n",
    "                    warehouse = os.getenv('SNOW_WH'),\n",
    "                    database = os.getenv('SNOW_DB'),\n",
    "                    schema =os.getenv('SNOW_SCHEMA'),\n",
    "                    role = os.getenv('SNOW_ROLE')\n",
    "                    )\n",
    "    return ctx\n",
    "\n",
    "ctx=connection()"
   ]
  },
  {
   "cell_type": "code",
   "execution_count": 11,
   "id": "bb672d03",
   "metadata": {},
   "outputs": [],
   "source": [
    "# Create a cursor object.\n",
    "\n",
    "cursor = ctx.cursor()  "
   ]
  },
  {
   "cell_type": "code",
   "execution_count": 12,
   "id": "d9a9ad3c",
   "metadata": {
    "scrolled": true
   },
   "outputs": [],
   "source": [
    "#Execute Query with cursor.execute\n",
    "\n",
    "cursor.execute('select * from \"DEMO_LOAD\".\"PUBLIC\".\"IRIS\";')\n",
    "Iris_original = cursor.fetch_pandas_all()\n",
    "\n"
   ]
  },
  {
   "cell_type": "code",
   "execution_count": 13,
   "id": "f3851b00",
   "metadata": {},
   "outputs": [
    {
     "name": "stdout",
     "output_type": "stream",
     "text": [
      "     SEPAL_LENGTH  SEPAL_WIDTH  PETAL_LENGTH  PETAL_WIDTH    SPECIES\n",
      "0             5.1            4             1            0     setosa\n",
      "1             4.9            3             1            0     setosa\n",
      "2             4.7            3             1            0     setosa\n",
      "3             4.6            3             2            0     setosa\n",
      "4             5.0            4             1            0     setosa\n",
      "..            ...          ...           ...          ...        ...\n",
      "145           6.7            3             5            2  virginica\n",
      "146           6.3            3             5            2  virginica\n",
      "147           6.5            3             5            2  virginica\n",
      "148           6.2            3             5            2  virginica\n",
      "149           5.9            3             5            2  virginica\n",
      "\n",
      "[150 rows x 5 columns]\n"
     ]
    }
   ],
   "source": [
    "print(Iris_original)"
   ]
  },
  {
   "cell_type": "code",
   "execution_count": 14,
   "id": "0272c282",
   "metadata": {},
   "outputs": [],
   "source": [
    "Iris_new_row = pd.DataFrame({'SEPAL_LENGTH':[999],\n",
    "                    'SEPAL_WIDTH':[999],\n",
    "                    'PETAL_LENGTH':[999],\n",
    "                    'PETAL_WIDTH':[999], \n",
    "                    'SPECIES':[\"Test\"]})"
   ]
  },
  {
   "cell_type": "code",
   "execution_count": 15,
   "id": "6a348125",
   "metadata": {
    "scrolled": false
   },
   "outputs": [
    {
     "name": "stdout",
     "output_type": "stream",
     "text": [
      "   SEPAL_LENGTH  SEPAL_WIDTH  PETAL_LENGTH  PETAL_WIDTH SPECIES\n",
      "0           999          999           999          999    Test\n"
     ]
    }
   ],
   "source": [
    "print(Iris_new_row)"
   ]
  },
  {
   "cell_type": "code",
   "execution_count": 16,
   "id": "ba047082",
   "metadata": {},
   "outputs": [],
   "source": [
    "success, nchunks, nrows, _ = write_pandas(ctx, Iris_new_row,'IRIS')"
   ]
  },
  {
   "cell_type": "code",
   "execution_count": 17,
   "id": "f12072a8",
   "metadata": {},
   "outputs": [
    {
     "name": "stdout",
     "output_type": "stream",
     "text": [
      "     SEPAL_LENGTH  SEPAL_WIDTH  PETAL_LENGTH  PETAL_WIDTH    SPECIES\n",
      "0             5.1            4             1            0     setosa\n",
      "1             4.9            3             1            0     setosa\n",
      "2             4.7            3             1            0     setosa\n",
      "3             4.6            3             2            0     setosa\n",
      "4             5.0            4             1            0     setosa\n",
      "..            ...          ...           ...          ...        ...\n",
      "146           6.3            3             5            2  virginica\n",
      "147           6.5            3             5            2  virginica\n",
      "148           6.2            3             5            2  virginica\n",
      "149           5.9            3             5            2  virginica\n",
      "150         999.0          999           999          999       Test\n",
      "\n",
      "[151 rows x 5 columns]\n"
     ]
    }
   ],
   "source": [
    "cursor.execute('select * from \"DEMO_LOAD\".\"PUBLIC\".\"IRIS\";')\n",
    "Iris_original = cursor.fetch_pandas_all()\n",
    "print(Iris_original)"
   ]
  },
  {
   "cell_type": "code",
   "execution_count": null,
   "id": "db0f9d84",
   "metadata": {},
   "outputs": [],
   "source": [
    "cursor.close()\n",
    "ctx.close()"
   ]
  }
 ],
 "metadata": {
  "kernelspec": {
   "display_name": "Python 3",
   "language": "python",
   "name": "python3"
  },
  "language_info": {
   "codemirror_mode": {
    "name": "ipython",
    "version": 3
   },
   "file_extension": ".py",
   "mimetype": "text/x-python",
   "name": "python",
   "nbconvert_exporter": "python",
   "pygments_lexer": "ipython3",
   "version": "3.9.9"
  }
 },
 "nbformat": 4,
 "nbformat_minor": 5
}
